{
 "cells": [
  {
   "cell_type": "markdown",
   "id": "ec3b7e40-0cee-413b-9b9c-66966aa46f30",
   "metadata": {},
   "source": [
    "# SmartTutor - Fire Any Questions !!!"
   ]
  },
  {
   "cell_type": "code",
   "execution_count": null,
   "id": "0d955ae6-68c4-4d7f-bd1c-8ef1caa87596",
   "metadata": {},
   "outputs": [],
   "source": [
    "# imports\n",
    "# If these fail, please check you're running from an 'activated' environment with (llms) in the command prompt\n",
    "\n",
    "import os\n",
    "import requests\n",
    "import json\n",
    "from typing import List\n",
    "from dotenv import load_dotenv\n",
    "from bs4 import BeautifulSoup\n",
    "from IPython.display import Markdown, display, update_display\n",
    "from openai import OpenAI"
   ]
  },
  {
   "cell_type": "code",
   "execution_count": null,
   "id": "ed29d86a-65b6-4e48-9914-20ecc773bb8f",
   "metadata": {},
   "outputs": [],
   "source": [
    "# Initialize and constants\n",
    "\n",
    "load_dotenv(override=True)\n",
    "api_key = os.getenv('OPENAI_API_KEY')\n",
    "\n",
    "if api_key and api_key.startswith('sk-proj-') and len(api_key)>10:\n",
    "    print(\"API key looks good so far\")\n",
    "else:\n",
    "    print(\"There might be a problem with your API key? Please visit the troubleshooting notebook!\")\n",
    "    \n",
    "MODEL = 'gpt-4o-mini'\n",
    "openai = OpenAI()"
   ]
  },
  {
   "cell_type": "code",
   "execution_count": null,
   "id": "4ffd3a8d-091e-4965-99e8-a211ddc0a7f7",
   "metadata": {},
   "outputs": [],
   "source": [
    "link_system_prompt = \"\"\"You are a Tutor who has knowledge on any subjects that your students ask.\n",
    "They can ask any questions related to Science, Maths, Sports, AI, Data Science, World Affairs etc.\n",
    "You should provide clear and concise answers to the student.\n",
    "You should respond in JSON as shown in the examples below.\n",
    "\n",
    "Example 1:\n",
    "User: What is the capital of France?\n",
    "Assistant:\n",
    "{\n",
    "  \"question\": \"What is the capital of France?\",\n",
    "  \"answer\": \"The capital of France is Paris.\"\n",
    "}\n",
    "\n",
    "Example 2:\n",
    "User: Explain Newton's First Law.\n",
    "Assistant:\n",
    "{\n",
    "  \"question\": \"Explain Newton's First Law.\",\n",
    "  \"answer\": \"Newton's First Law states that an object will remain at rest or in uniform motion unless acted upon by an external force.\"\n",
    "}\n",
    "\n",
    "Example 3:\n",
    "User: What is the derivative of sin(x)?\n",
    "Assistant:\n",
    "{\n",
    "  \"question\": \"What is the derivative of sin(x)?\",\n",
    "  \"answer\": \"The derivative of sin(x) is cos(x).\"\n",
    "}\n",
    "\n",
    "Now answer the next question in the same format.\n",
    "\"\"\"\n"
   ]
  },
  {
   "cell_type": "code",
   "execution_count": null,
   "id": "c6c8bd39-529c-40c1-b57a-a1bc3b127966",
   "metadata": {},
   "outputs": [],
   "source": [
    "print(link_system_prompt)"
   ]
  },
  {
   "cell_type": "code",
   "execution_count": null,
   "id": "4c6b2bec-ae6d-41da-8021-e35293a8fdde",
   "metadata": {},
   "outputs": [],
   "source": [
    "def Q(user_question):\n",
    "    stream = openai.chat.completions.create(\n",
    "        model=MODEL,\n",
    "        messages=[\n",
    "            {\"role\": \"system\", \"content\": link_system_prompt},\n",
    "            {\"role\": \"user\", \"content\": user_question}\n",
    "        ],\n",
    "        stream=True,\n",
    "        response_format={\"type\": \"json_object\"}  # <-- Correct format for latest SDK\n",
    "    )\n",
    "\n",
    "    response_text = \"\"\n",
    "    handle = display(Markdown(\"\"), display_id=True)\n",
    "\n",
    "    for chunk in stream:\n",
    "        delta = chunk.choices[0].delta\n",
    "        content = getattr(delta, \"content\", \"\")\n",
    "        if content:\n",
    "            response_text += content\n",
    "            clean = response_text.replace(\"```\", \"\").replace(\"markdown\", \"\")\n",
    "            update_display(Markdown(clean), display_id=handle.display_id)\n",
    "\n",
    "    result = json.loads(response_text)\n",
    "    formatted = f\"**Question:** {result['question']}\\n\\n**SmartTutor:** {result['answer']}\"\n",
    "    update_display(Markdown(formatted), display_id=handle.display_id)\n"
   ]
  },
  {
   "cell_type": "markdown",
   "id": "01d24fde-82d7-411f-a62d-6aaaf8454be4",
   "metadata": {},
   "source": [
    "# Sample Questions"
   ]
  },
  {
   "cell_type": "code",
   "execution_count": null,
   "id": "d2c4af94-b628-46c9-a362-d767acce7a55",
   "metadata": {},
   "outputs": [],
   "source": [
    "Q(\"Whats Florida's Lat & Long\")"
   ]
  },
  {
   "cell_type": "code",
   "execution_count": null,
   "id": "0a94f0b8-d285-4177-9280-76e8dd0ee5f4",
   "metadata": {},
   "outputs": [],
   "source": [
    "Q(\"How many State Parks are in Florida\")"
   ]
  },
  {
   "cell_type": "code",
   "execution_count": null,
   "id": "c5c55329-c358-4feb-b2dc-7df7ba632a6a",
   "metadata": {},
   "outputs": [],
   "source": [
    "Q(\"How many eggs does a chicken lay\")"
   ]
  },
  {
   "cell_type": "code",
   "execution_count": null,
   "id": "cefe5b61-0e5c-491d-828e-f043578e00cc",
   "metadata": {},
   "outputs": [],
   "source": [
    "Q(\"What's the capital of Floirda\")"
   ]
  },
  {
   "cell_type": "code",
   "execution_count": null,
   "id": "ead8217e-f52d-4844-ba2d-ea141aa3a9c1",
   "metadata": {},
   "outputs": [],
   "source": []
  }
 ],
 "metadata": {
  "kernelspec": {
   "display_name": "Python 3 (ipykernel)",
   "language": "python",
   "name": "python3"
  },
  "language_info": {
   "codemirror_mode": {
    "name": "ipython",
    "version": 3
   },
   "file_extension": ".py",
   "mimetype": "text/x-python",
   "name": "python",
   "nbconvert_exporter": "python",
   "pygments_lexer": "ipython3",
   "version": "3.11.12"
  }
 },
 "nbformat": 4,
 "nbformat_minor": 5
}
